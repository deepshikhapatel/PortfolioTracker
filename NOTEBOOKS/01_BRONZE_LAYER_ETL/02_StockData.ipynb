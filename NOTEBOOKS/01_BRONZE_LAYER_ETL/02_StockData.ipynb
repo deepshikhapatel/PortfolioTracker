{
 "cells": [
  {
   "cell_type": "markdown",
   "metadata": {},
   "source": [
    "## SOURCE TO BRONZE LAYER\n",
    "\n",
    "### Process:\n",
    "\n",
    "> The function fetches daily stock data using the Yahoo Finance API (`yfinance`).\n"
   ]
  },
  {
   "cell_type": "code",
   "execution_count": 1,
   "metadata": {
    "execution": {
     "iopub.execute_input": "2024-12-01T01:25:45.316845Z",
     "iopub.status.busy": "2024-12-01T01:25:45.316387Z",
     "iopub.status.idle": "2024-12-01T01:25:45.804066Z",
     "shell.execute_reply": "2024-12-01T01:25:45.803485Z"
    }
   },
   "outputs": [],
   "source": [
    "# Import necessary libraries\n",
    "from datetime import timedelta\n",
    "\n",
    "import pandas as pd\n",
    "import yfinance as yf\n",
    "from pyrate_limiter import Duration, Limiter, RequestRate\n",
    "from requests import Session\n",
    "from requests_cache import CacheMixin, SQLiteCache\n",
    "from requests_ratelimiter import LimiterMixin, MemoryQueueBucket\n",
    "\n",
    "from StockETL import DateTimeUtil, GlobalPath"
   ]
  },
  {
   "cell_type": "code",
   "execution_count": 2,
   "metadata": {
    "execution": {
     "iopub.execute_input": "2024-12-01T01:25:45.806326Z",
     "iopub.status.busy": "2024-12-01T01:25:45.806040Z",
     "iopub.status.idle": "2024-12-01T01:25:45.946070Z",
     "shell.execute_reply": "2024-12-01T01:25:45.945368Z"
    }
   },
   "outputs": [],
   "source": [
    "# Importing Common Utility Function\n",
    "%run ../COMMON/common_utility.ipynb"
   ]
  },
  {
   "cell_type": "code",
   "execution_count": 3,
   "metadata": {
    "execution": {
     "iopub.execute_input": "2024-12-01T01:25:45.948237Z",
     "iopub.status.busy": "2024-12-01T01:25:45.948035Z",
     "iopub.status.idle": "2024-12-01T01:25:45.951617Z",
     "shell.execute_reply": "2024-12-01T01:25:45.951157Z"
    }
   },
   "outputs": [],
   "source": [
    "# Define Constants file paths\n",
    "HOLDINGS_HISTORY_PATH = GlobalPath(\"DATA/SOURCE/Holdings/HoldingsHistory_data.csv\")\n",
    "STOCKDATA_BRONZE_LAYER_PATH = GlobalPath(\"DATA/BRONZE/StockData\")"
   ]
  },
  {
   "cell_type": "code",
   "execution_count": 4,
   "metadata": {
    "execution": {
     "iopub.execute_input": "2024-12-01T01:25:45.953398Z",
     "iopub.status.busy": "2024-12-01T01:25:45.953075Z",
     "iopub.status.idle": "2024-12-01T01:25:45.961702Z",
     "shell.execute_reply": "2024-12-01T01:25:45.961129Z"
    }
   },
   "outputs": [],
   "source": [
    "# Setting cache location for yfinance\n",
    "yf.set_tz_cache_location(\".cache\")\n",
    "\n",
    "\n",
    "# Rate limiting setup\n",
    "class CachedLimiterSession(CacheMixin, LimiterMixin, Session):\n",
    "    pass\n",
    "\n",
    "\n",
    "history_rate = RequestRate(1, Duration.SECOND * 2)\n",
    "limiter = Limiter(history_rate)\n",
    "session = CachedLimiterSession(\n",
    "    limiter=limiter,\n",
    "    bucket_class=MemoryQueueBucket,\n",
    "    backend=SQLiteCache(\".cache/session\", expire_after=timedelta(hours=1)),\n",
    ")"
   ]
  },
  {
   "cell_type": "code",
   "execution_count": 5,
   "metadata": {
    "execution": {
     "iopub.execute_input": "2024-12-01T01:25:45.963779Z",
     "iopub.status.busy": "2024-12-01T01:25:45.963291Z",
     "iopub.status.idle": "2024-12-01T01:25:45.967147Z",
     "shell.execute_reply": "2024-12-01T01:25:45.966698Z"
    }
   },
   "outputs": [],
   "source": [
    "def process_file(stock_ticker, date, output_file):\n",
    "    \"\"\"Fetch historical stock data and save it to a CSV file.\"\"\"\n",
    "    df = stock_ticker.history(\n",
    "        start=date.start_date,\n",
    "        end=min(date.end_date, DateTimeUtil.today()),\n",
    "        interval=\"1d\",\n",
    "        actions=True,\n",
    "        rounding=True,\n",
    "    )\n",
    "    if df.empty:\n",
    "        raise Exception(\n",
    "            f\"No data fetched for : from {date.start_date} to {date.end_date}\"\n",
    "        )\n",
    "    df = df.reset_index()\n",
    "    df = replace_punctuation_from_columns(df)\n",
    "    df = fix_duplicate_column_names(df)\n",
    "    df = df.round(2)\n",
    "    df.to_csv(output_file, index=False)\n",
    "    print(f\"Data processed and saved to: {output_file}\")"
   ]
  },
  {
   "cell_type": "code",
   "execution_count": 6,
   "metadata": {
    "execution": {
     "iopub.execute_input": "2024-12-01T01:25:45.968886Z",
     "iopub.status.busy": "2024-12-01T01:25:45.968562Z",
     "iopub.status.idle": "2024-12-01T01:25:45.973086Z",
     "shell.execute_reply": "2024-12-01T01:25:45.972491Z"
    }
   },
   "outputs": [],
   "source": [
    "# Dictionary for stock ticker overrides\n",
    "OVERWRITE_TICKERS = {\n",
    "    \"AWL\": \"AWL.NS\",\n",
    "    \"BANKBARODA\": \"BANKBARODA.NS\",\n",
    "    \"BCG\": \"BCG.NS\",\n",
    "    \"CAMPUS\": \"CAMPUS.NS\",\n",
    "    \"CRESSAN\": \"CRESSAN.BO\",\n",
    "    \"CTL\": \"CTL.BO\",\n",
    "    \"DATAPATTNS\": \"DATAPATTNS.NS\",\n",
    "    \"DEEPAKNTR\": \"DEEPAKNTR.NS\",\n",
    "    \"FCSSOFT\": \"FCSSOFT.NS\",\n",
    "    \"GITARENEW\": \"GITARENEW.BO\",\n",
    "    \"GRAVITA\": \"GRAVITA.NS\",\n",
    "    \"GREENPOWER\": \"GREENPOWER.NS\",\n",
    "    \"GREENPOWER_RE\": \"GREENPOWER.NS\",\n",
    "    \"HFCL\": \"HFCL.NS\",\n",
    "    \"IDFCFIRSTB\": \"IDFCFIRSTB.NS\",\n",
    "    \"JPPOWER\": \"JPPOWER.NS\",\n",
    "    \"KNRCON\": \"KNRCON.NS\",\n",
    "    \"KPEL\": \"KPEL.BO\",\n",
    "    \"KPITTECH\": \"KPITTECH.NS\",\n",
    "    \"LLOYDSENGG\": \"LLOYDSENGG.NS\",\n",
    "    \"PNB\": \"PNB.NS\",\n",
    "    \"PRAKASHSTL\": \"PRAKASHSTL.NS\",\n",
    "    \"RAGHUSYN\": \"RAGHUSYN.BO\",\n",
    "    \"RPOWER\": \"RPOWER.NS\",\n",
    "    \"RTNINDIA\": \"RTNINDIA.NS\",\n",
    "    \"RTNPOWER\": \"RTNPOWER.NS\",\n",
    "    \"SINTEX\": \"SINTEX.NS\",\n",
    "    \"SUZLON\": \"SUZLON.NS\",\n",
    "    \"SWORDEDGE\": \"SWORDEDGE.BO\",\n",
    "    \"TATAMOTORS\": \"TATAMOTORS.NS\",\n",
    "    \"TATAPOWER\": \"TATAPOWER.NS\",\n",
    "    \"TRIDENT\": \"TRIDENT.NS\",\n",
    "    \"TTML\": \"TTML.NS\",\n",
    "    \"URJA\": \"URJA.NS\",\n",
    "    \"VIJIFIN\": \"VIJIFIN.NS\",\n",
    "    \"VIKASLIFE\": \"VIKASLIFE.NS\",\n",
    "    \"VIRTUALG\": \"VIRTUALG.BO\",\n",
    "    \"VISESHINFO\": \"VISESHINFO.NS\",\n",
    "    \"WIPRO\": \"WIPRO.NS\",\n",
    "    \"YAMNINV\": \"YAMNINV.BO\",\n",
    "    \"ZOMATO\": \"ZOMATO.NS\",\n",
    "    \"BAJAJHFL\": \"BAJAJHFL.NS\",\n",
    "    \"BHAGERIA\": \"BHAGERIA.NS\",\n",
    "    \"BPCL\": \"BPCL.NS\",\n",
    "    \"GOLDBEES\": \"GOLDBEES.NS\",\n",
    "    \"HERANBA\": \"HERANBA.NS\",\n",
    "    \"IDEA\": \"IDEA.NS\",\n",
    "    \"INFY\": \"INFY.NS\",\n",
    "    \"IRCTC\": \"IRCTC.NS\",\n",
    "    \"LICI\": \"LICI.NS\",\n",
    "    \"MIRAE_ASSET_ELSS_TAX_SAVER_FUND_DIRECT_PLAN_GROWTH\": \"0P00017844.BO\",\n",
    "    \"NIFTYBEES\": \"NIFTYBEES.NS\",\n",
    "    \"SBIN\": \"SBIN.NS\",\n",
    "    \"SBI_LONG_TERM_EQUITY_FUND_DIRECT_PLAN_GROWTH\": \"0P0000XVL9.BO\",\n",
    "    \"TATACHEM\": \"TATACHEM.NS\",\n",
    "    \"VOLTAS\": \"VOLTAS.NS\",\n",
    "    \"YESBANK\": \"YESBANK.NS\",\n",
    "}"
   ]
  },
  {
   "cell_type": "code",
   "execution_count": 7,
   "metadata": {
    "execution": {
     "iopub.execute_input": "2024-12-01T01:25:45.975048Z",
     "iopub.status.busy": "2024-12-01T01:25:45.974603Z",
     "iopub.status.idle": "2024-12-01T01:25:45.982738Z",
     "shell.execute_reply": "2024-12-01T01:25:45.982177Z"
    }
   },
   "outputs": [
    {
     "name": "stdout",
     "output_type": "stream",
     "text": [
      "Loaded data from: /home/runner/work/PortfolioTracker/PortfolioTracker/DATA/SOURCE/Holdings/HoldingsHistory_data.csv\n"
     ]
    }
   ],
   "source": [
    "# Load holdings data from CSV\n",
    "df_holdings_history = pd.read_csv(HOLDINGS_HISTORY_PATH)\n",
    "df_holdings_history[\"min_date\"] = pd.to_datetime(df_holdings_history[\"min_date\"])\n",
    "df_holdings_history[\"max_date\"] = pd.to_datetime(df_holdings_history[\"max_date\"])\n",
    "print(f\"Loaded data from: {HOLDINGS_HISTORY_PATH}\")"
   ]
  },
  {
   "cell_type": "code",
   "execution_count": 8,
   "metadata": {
    "execution": {
     "iopub.execute_input": "2024-12-01T01:25:46.018418Z",
     "iopub.status.busy": "2024-12-01T01:25:46.017962Z",
     "iopub.status.idle": "2024-12-01T01:27:36.084062Z",
     "shell.execute_reply": "2024-12-01T01:27:36.083557Z"
    }
   },
   "outputs": [
    {
     "name": "stdout",
     "output_type": "stream",
     "text": [
      "\n",
      "Processing data for symbol ADANIPORTS:\n"
     ]
    },
    {
     "name": "stdout",
     "output_type": "stream",
     "text": [
      "Data processed and saved to: /home/runner/work/PortfolioTracker/PortfolioTracker/DATA/BRONZE/StockData/ADANIPORTS_2024_10.csv\n"
     ]
    },
    {
     "name": "stdout",
     "output_type": "stream",
     "text": [
      "Data processed and saved to: /home/runner/work/PortfolioTracker/PortfolioTracker/DATA/BRONZE/StockData/ADANIPORTS_2024_11.csv\n",
      "\n",
      "Processing data for symbol BECTORFOOD:\n"
     ]
    },
    {
     "name": "stdout",
     "output_type": "stream",
     "text": [
      "Data processed and saved to: /home/runner/work/PortfolioTracker/PortfolioTracker/DATA/BRONZE/StockData/BECTORFOOD_2024_10.csv\n"
     ]
    },
    {
     "name": "stdout",
     "output_type": "stream",
     "text": [
      "Data processed and saved to: /home/runner/work/PortfolioTracker/PortfolioTracker/DATA/BRONZE/StockData/BECTORFOOD_2024_11.csv\n",
      "\n",
      "Processing data for symbol CARTRADE:\n"
     ]
    },
    {
     "name": "stdout",
     "output_type": "stream",
     "text": [
      "Data processed and saved to: /home/runner/work/PortfolioTracker/PortfolioTracker/DATA/BRONZE/StockData/CARTRADE_2024_10.csv\n"
     ]
    },
    {
     "name": "stdout",
     "output_type": "stream",
     "text": [
      "Data processed and saved to: /home/runner/work/PortfolioTracker/PortfolioTracker/DATA/BRONZE/StockData/CARTRADE_2024_11.csv\n",
      "\n",
      "Processing data for symbol HAPPSTMNDS:\n"
     ]
    },
    {
     "name": "stdout",
     "output_type": "stream",
     "text": [
      "Data processed and saved to: /home/runner/work/PortfolioTracker/PortfolioTracker/DATA/BRONZE/StockData/HAPPSTMNDS_2024_10.csv\n"
     ]
    },
    {
     "name": "stdout",
     "output_type": "stream",
     "text": [
      "Data processed and saved to: /home/runner/work/PortfolioTracker/PortfolioTracker/DATA/BRONZE/StockData/HAPPSTMNDS_2024_11.csv\n",
      "\n",
      "Processing data for symbol ICICIB22:\n"
     ]
    },
    {
     "name": "stderr",
     "output_type": "stream",
     "text": [
      "Could not get exchangeTimezoneName for ticker '' reason: 'chart'\n"
     ]
    },
    {
     "name": "stderr",
     "output_type": "stream",
     "text": [
      "$: possibly delisted; no timezone found\n"
     ]
    },
    {
     "name": "stdout",
     "output_type": "stream",
     "text": [
      "Error processing ICICIB22:\n",
      "No data fetched for : from 2024-10-01 00:00:00 to 2024-10-31 00:00:00\n",
      "\n",
      "Processing data for symbol IDEA:\n"
     ]
    },
    {
     "name": "stdout",
     "output_type": "stream",
     "text": [
      "Data processed and saved to: /home/runner/work/PortfolioTracker/PortfolioTracker/DATA/BRONZE/StockData/IDEA_2024_10.csv\n"
     ]
    },
    {
     "name": "stdout",
     "output_type": "stream",
     "text": [
      "Data processed and saved to: /home/runner/work/PortfolioTracker/PortfolioTracker/DATA/BRONZE/StockData/IDEA_2024_11.csv\n",
      "\n",
      "Processing data for symbol IRFC:\n"
     ]
    },
    {
     "name": "stdout",
     "output_type": "stream",
     "text": [
      "Data processed and saved to: /home/runner/work/PortfolioTracker/PortfolioTracker/DATA/BRONZE/StockData/IRFC_2024_10.csv\n"
     ]
    },
    {
     "name": "stdout",
     "output_type": "stream",
     "text": [
      "Data processed and saved to: /home/runner/work/PortfolioTracker/PortfolioTracker/DATA/BRONZE/StockData/IRFC_2024_11.csv\n",
      "\n",
      "Processing data for symbol ITC:\n"
     ]
    },
    {
     "name": "stdout",
     "output_type": "stream",
     "text": [
      "Data processed and saved to: /home/runner/work/PortfolioTracker/PortfolioTracker/DATA/BRONZE/StockData/ITC_2024_10.csv\n"
     ]
    },
    {
     "name": "stdout",
     "output_type": "stream",
     "text": [
      "Data processed and saved to: /home/runner/work/PortfolioTracker/PortfolioTracker/DATA/BRONZE/StockData/ITC_2024_11.csv\n",
      "\n",
      "Processing data for symbol SBICARD:\n"
     ]
    },
    {
     "name": "stdout",
     "output_type": "stream",
     "text": [
      "Data processed and saved to: /home/runner/work/PortfolioTracker/PortfolioTracker/DATA/BRONZE/StockData/SBICARD_2024_10.csv\n"
     ]
    },
    {
     "name": "stdout",
     "output_type": "stream",
     "text": [
      "Data processed and saved to: /home/runner/work/PortfolioTracker/PortfolioTracker/DATA/BRONZE/StockData/SBICARD_2024_11.csv\n",
      "\n",
      "Processing data for symbol SBIN:\n",
      "\n",
      "Processing data for symbol SYNCOMF:\n"
     ]
    },
    {
     "name": "stdout",
     "output_type": "stream",
     "text": [
      "Data processed and saved to: /home/runner/work/PortfolioTracker/PortfolioTracker/DATA/BRONZE/StockData/SYNCOMF_2024_10.csv\n"
     ]
    },
    {
     "name": "stdout",
     "output_type": "stream",
     "text": [
      "Data processed and saved to: /home/runner/work/PortfolioTracker/PortfolioTracker/DATA/BRONZE/StockData/SYNCOMF_2024_11.csv\n",
      "\n",
      "Processing data for symbol TATAMOTORS:\n"
     ]
    },
    {
     "name": "stdout",
     "output_type": "stream",
     "text": [
      "Data processed and saved to: /home/runner/work/PortfolioTracker/PortfolioTracker/DATA/BRONZE/StockData/TATAMOTORS_2024_10.csv\n"
     ]
    },
    {
     "name": "stdout",
     "output_type": "stream",
     "text": [
      "Data processed and saved to: /home/runner/work/PortfolioTracker/PortfolioTracker/DATA/BRONZE/StockData/TATAMOTORS_2024_11.csv\n",
      "\n",
      "Processing data for symbol TATAPOWER:\n"
     ]
    },
    {
     "name": "stdout",
     "output_type": "stream",
     "text": [
      "Data processed and saved to: /home/runner/work/PortfolioTracker/PortfolioTracker/DATA/BRONZE/StockData/TATAPOWER_2024_10.csv\n"
     ]
    },
    {
     "name": "stdout",
     "output_type": "stream",
     "text": [
      "Data processed and saved to: /home/runner/work/PortfolioTracker/PortfolioTracker/DATA/BRONZE/StockData/TATAPOWER_2024_11.csv\n",
      "\n",
      "Processing data for symbol TCS:\n"
     ]
    },
    {
     "name": "stdout",
     "output_type": "stream",
     "text": [
      "Data processed and saved to: /home/runner/work/PortfolioTracker/PortfolioTracker/DATA/BRONZE/StockData/TCS_2024_10.csv\n"
     ]
    },
    {
     "name": "stdout",
     "output_type": "stream",
     "text": [
      "Data processed and saved to: /home/runner/work/PortfolioTracker/PortfolioTracker/DATA/BRONZE/StockData/TCS_2024_11.csv\n",
      "\n",
      "Processing data for symbol DSP_ELSS_TAX_SAVER_FUND_DIRECT_PLAN_GROWTH:\n"
     ]
    },
    {
     "name": "stdout",
     "output_type": "stream",
     "text": [
      "Data processed and saved to: /home/runner/work/PortfolioTracker/PortfolioTracker/DATA/BRONZE/StockData/DSP_ELSS_TAX_SAVER_FUND_DIRECT_PLAN_GROWTH_2024_10.csv\n"
     ]
    },
    {
     "name": "stdout",
     "output_type": "stream",
     "text": [
      "Data processed and saved to: /home/runner/work/PortfolioTracker/PortfolioTracker/DATA/BRONZE/StockData/DSP_ELSS_TAX_SAVER_FUND_DIRECT_PLAN_GROWTH_2024_11.csv\n",
      "\n",
      "Processing data for symbol HDFC_INDEX_FUNDNIFTY_50_PLAN_DIRECT_PLAN:\n"
     ]
    },
    {
     "name": "stdout",
     "output_type": "stream",
     "text": [
      "Data processed and saved to: /home/runner/work/PortfolioTracker/PortfolioTracker/DATA/BRONZE/StockData/HDFC_INDEX_FUNDNIFTY_50_PLAN_DIRECT_PLAN_2024_10.csv\n"
     ]
    },
    {
     "name": "stdout",
     "output_type": "stream",
     "text": [
      "Data processed and saved to: /home/runner/work/PortfolioTracker/PortfolioTracker/DATA/BRONZE/StockData/HDFC_INDEX_FUNDNIFTY_50_PLAN_DIRECT_PLAN_2024_11.csv\n"
     ]
    }
   ],
   "source": [
    "# Fetch stock data and process it.\n",
    "for _, row in df_holdings_history.iterrows():\n",
    "    print(f\"\\nProcessing data for symbol {row['symbol']}:\")\n",
    "    try:\n",
    "        stock_ticker = yf.Ticker(\n",
    "            OVERWRITE_TICKERS.get(row[\"symbol\"], row[\"isin\"]),\n",
    "            session=session,\n",
    "        )\n",
    "        date_list = generate_date_list(\n",
    "            row[\"min_date\"].to_pydatetime(), row[\"max_date\"].to_pydatetime()\n",
    "        )\n",
    "        for date in date_list:\n",
    "            output_file = STOCKDATA_BRONZE_LAYER_PATH.joinpath(\n",
    "                f\"{row['symbol']}_{date.year:04d}_{date.month:02d}.csv\"\n",
    "            )\n",
    "            if (\n",
    "                output_file.exists()\n",
    "                and date.month_difference(DateTimeUtil.today()) >= 1\n",
    "            ):\n",
    "                continue\n",
    "            process_file(stock_ticker, date, output_file)\n",
    "    except Exception as e:\n",
    "        print(f\"Error processing {row['symbol']}:\\n{e}\")"
   ]
  }
 ],
 "metadata": {
  "kernelspec": {
   "display_name": "Python 3",
   "language": "python",
   "name": "python3"
  },
  "language_debug": {
   "codemirror_mode": {
    "name": "ipython",
    "version": 3
   },
   "file_extension": ".py",
   "mimetype": "text/x-python",
   "name": "python",
   "nbconvert_exporter": "python",
   "pygments_lexer": "ipython3",
   "version": "3.11.4"
  },
  "language_info": {
   "codemirror_mode": {
    "name": "ipython",
    "version": 3
   },
   "file_extension": ".py",
   "mimetype": "text/x-python",
   "name": "python",
   "nbconvert_exporter": "python",
   "pygments_lexer": "ipython3",
   "version": "3.12.7"
  }
 },
 "nbformat": 4,
 "nbformat_minor": 4
}
