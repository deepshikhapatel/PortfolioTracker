{
 "cells": [
  {
   "cell_type": "markdown",
   "metadata": {},
   "source": [
    "## BRONZE TO SILVER LAYER\n",
    "\n",
    "### GOLD LAYER - PROCESS DIVIDEND HISTORY\n"
   ]
  },
  {
   "cell_type": "markdown",
   "metadata": {},
   "source": [
    "### Description\n",
    "\n",
    "The notebook is designed to process stock dividend data by merging it with holding data, calculating dividend amounts, and saving the result to a CSV file. The function follows these steps:\n"
   ]
  },
  {
   "cell_type": "code",
   "execution_count": 1,
   "metadata": {
    "execution": {
     "iopub.execute_input": "2025-01-01T01:38:38.882392Z",
     "iopub.status.busy": "2025-01-01T01:38:38.882205Z",
     "iopub.status.idle": "2025-01-01T01:38:39.161492Z",
     "shell.execute_reply": "2025-01-01T01:38:39.160845Z"
    }
   },
   "outputs": [],
   "source": [
    "# Importing Common Utility Function\n",
    "import pandas as pd\n",
    "\n",
    "from StockETL import GlobalPath"
   ]
  },
  {
   "cell_type": "code",
   "execution_count": 2,
   "metadata": {
    "execution": {
     "iopub.execute_input": "2025-01-01T01:38:39.163939Z",
     "iopub.status.busy": "2025-01-01T01:38:39.163507Z",
     "iopub.status.idle": "2025-01-01T01:38:39.323066Z",
     "shell.execute_reply": "2025-01-01T01:38:39.322405Z"
    }
   },
   "outputs": [
    {
     "name": "stdout",
     "output_type": "stream",
     "text": [
      "USERNAME = 'deepshikhapatel'\n"
     ]
    }
   ],
   "source": [
    "# Import necessary libraries and utility functions\n",
    "%run ../COMMON/common_utility.ipynb"
   ]
  },
  {
   "cell_type": "code",
   "execution_count": 3,
   "metadata": {
    "execution": {
     "iopub.execute_input": "2025-01-01T01:38:39.360558Z",
     "iopub.status.busy": "2025-01-01T01:38:39.360147Z",
     "iopub.status.idle": "2025-01-01T01:38:39.364549Z",
     "shell.execute_reply": "2025-01-01T01:38:39.363955Z"
    }
   },
   "outputs": [],
   "source": [
    "# Instantiate GlobalPath\n",
    "holding_gold_file_path = GlobalPath(f\"DATA/GOLD/Holding/{USERNAME}/Holding_data.csv\")\n",
    "stockevents_silver_file_path = GlobalPath(\n",
    "    \"DATA/SILVER/StockEvents/StockEvents_data.csv\"\n",
    ")\n",
    "dividend_gold_file_path = GlobalPath(f\"DATA/GOLD/Dividend/{USERNAME}/Dividend_data.csv\")\n",
    "dividend_gold_schema_file_path = GlobalPath(\"CONFIG/DATA_CONTRACTS/GOLD/Dividend.json\")"
   ]
  },
  {
   "cell_type": "code",
   "execution_count": 4,
   "metadata": {
    "execution": {
     "iopub.execute_input": "2025-01-01T01:38:39.366662Z",
     "iopub.status.busy": "2025-01-01T01:38:39.366189Z",
     "iopub.status.idle": "2025-01-01T01:38:39.398066Z",
     "shell.execute_reply": "2025-01-01T01:38:39.397484Z"
    }
   },
   "outputs": [
    {
     "name": "stdout",
     "output_type": "stream",
     "text": [
      "<class 'pandas.core.frame.DataFrame'>\n",
      "RangeIndex: 14798 entries, 0 to 14797\n",
      "Data columns (total 16 columns):\n",
      " #   Column            Non-Null Count  Dtype  \n",
      "---  ------            --------------  -----  \n",
      " 0   date              14798 non-null  object \n",
      " 1   segment           14798 non-null  object \n",
      " 2   exchange          14798 non-null  object \n",
      " 3   symbol            14798 non-null  object \n",
      " 4   scrip_name        14798 non-null  object \n",
      " 5   holding_quantity  14798 non-null  float64\n",
      " 6   avg_price         14798 non-null  float64\n",
      " 7   holding_amount    14798 non-null  float64\n",
      " 8   open_price        14798 non-null  float64\n",
      " 9   open_amount       14798 non-null  float64\n",
      " 10  high_price        14798 non-null  float64\n",
      " 11  high_amount       14798 non-null  float64\n",
      " 12  low_price         14798 non-null  float64\n",
      " 13  low_amount        14798 non-null  float64\n",
      " 14  close_price       14798 non-null  float64\n",
      " 15  close_amount      14798 non-null  float64\n",
      "dtypes: float64(11), object(5)\n",
      "memory usage: 1.8+ MB\n",
      "Loaded GOLD Layer holding data from => /home/runner/work/PortfolioTracker/PortfolioTracker/DATA/GOLD/Holding/deepshikhapatel/Holding_data.csv\n"
     ]
    }
   ],
   "source": [
    "# Load holding data from the GOLD layer\n",
    "df_holding = pd.read_csv(holding_gold_file_path)\n",
    "df_holding.info()\n",
    "df_holding[\"date\"] = pd.to_datetime(df_holding[\"date\"])\n",
    "print(f\"Loaded GOLD Layer holding data from => {holding_gold_file_path}\")"
   ]
  },
  {
   "cell_type": "code",
   "execution_count": 5,
   "metadata": {
    "execution": {
     "iopub.execute_input": "2025-01-01T01:38:39.400044Z",
     "iopub.status.busy": "2025-01-01T01:38:39.399701Z",
     "iopub.status.idle": "2025-01-01T01:38:39.405308Z",
     "shell.execute_reply": "2025-01-01T01:38:39.404750Z"
    }
   },
   "outputs": [
    {
     "name": "stdout",
     "output_type": "stream",
     "text": [
      "Loaded SILVER Layer stock dividend data from => /home/runner/work/PortfolioTracker/PortfolioTracker/DATA/SILVER/StockEvents/StockEvents_data.csv\n"
     ]
    }
   ],
   "source": [
    "# Load dividend data from the SILVER layer\n",
    "df_dividends = pd.read_csv(stockevents_silver_file_path)\n",
    "df_dividends[\"date\"] = pd.to_datetime(df_dividends[\"date\"])\n",
    "print(f\"Loaded SILVER Layer stock dividend data from => {stockevents_silver_file_path}\")"
   ]
  },
  {
   "cell_type": "code",
   "execution_count": 6,
   "metadata": {
    "execution": {
     "iopub.execute_input": "2025-01-01T01:38:39.407108Z",
     "iopub.status.busy": "2025-01-01T01:38:39.406796Z",
     "iopub.status.idle": "2025-01-01T01:38:39.417500Z",
     "shell.execute_reply": "2025-01-01T01:38:39.416893Z"
    }
   },
   "outputs": [],
   "source": [
    "# Filter for dividend events only\n",
    "df_dividends = df_dividends[df_dividends[\"event\"].str.upper() == \"DIVIDENDS\"]\n",
    "\n",
    "# Merge dividend data with holding data\n",
    "df_dividend = pd.merge(df_holding, df_dividends, on=[\"date\", \"symbol\"], how=\"left\")\n",
    "\n",
    "# Calculate the dividend amount\n",
    "df_dividend[\"dividend_amount\"] = (\n",
    "    df_dividend[\"value\"].fillna(0) * df_dividend[\"holding_quantity\"]\n",
    ")\n",
    "\n",
    "# Filter out rows where dividend amount is 0\n",
    "df_dividend = df_dividend[df_dividend[\"dividend_amount\"] != 0]\n",
    "\n",
    "# Apply the function to create the 'financial_year' column\n",
    "df_dividend[\"financial_year\"] = pd.to_datetime(df_dividend[\"date\"]).apply(\n",
    "    get_financial_year\n",
    ")"
   ]
  },
  {
   "cell_type": "code",
   "execution_count": 7,
   "metadata": {
    "execution": {
     "iopub.execute_input": "2025-01-01T01:38:39.419772Z",
     "iopub.status.busy": "2025-01-01T01:38:39.419301Z",
     "iopub.status.idle": "2025-01-01T01:38:39.432196Z",
     "shell.execute_reply": "2025-01-01T01:38:39.431606Z"
    }
   },
   "outputs": [
    {
     "name": "stdout",
     "output_type": "stream",
     "text": [
      "DataContract loaded from => /home/runner/work/PortfolioTracker/PortfolioTracker/CONFIG/DATA_CONTRACTS/GOLD/Dividend.json\n",
      "GOLD Layer CSV file for Holding successfully created at: /home/runner/work/PortfolioTracker/PortfolioTracker/DATA/GOLD/Dividend/deepshikhapatel/Dividend_data.csv\n",
      "<class 'pandas.core.frame.DataFrame'>\n",
      "RangeIndex: 32 entries, 0 to 31\n",
      "Data columns (total 5 columns):\n",
      " #   Column           Non-Null Count  Dtype         \n",
      "---  ------           --------------  -----         \n",
      " 0   financial_year   32 non-null     string        \n",
      " 1   date             32 non-null     datetime64[ns]\n",
      " 2   segment          32 non-null     string        \n",
      " 3   symbol           32 non-null     string        \n",
      " 4   dividend_amount  32 non-null     float64       \n",
      "dtypes: datetime64[ns](1), float64(1), string(3)\n",
      "memory usage: 1.4 KB\n"
     ]
    }
   ],
   "source": [
    "# Align Datafame with DataContract\n",
    "df_dividend = align_with_datacontract(df_dividend, dividend_gold_schema_file_path)\n",
    "\n",
    "# Save the result to a new CSV file\n",
    "df_dividend.to_csv(dividend_gold_file_path, index=False)\n",
    "print(\n",
    "    f\"GOLD Layer CSV file for Holding successfully created at: {dividend_gold_file_path}\"\n",
    ")\n",
    "\n",
    "# Display DataFrame debugrmation\n",
    "df_dividend.info()"
   ]
  }
 ],
 "metadata": {
  "kernelspec": {
   "display_name": "Python 3",
   "language": "python",
   "name": "python3"
  },
  "language_debug": {
   "codemirror_mode": {
    "name": "ipython",
    "version": 3
   },
   "file_extension": ".py",
   "mimetype": "text/x-python",
   "name": "python",
   "nbconvert_exporter": "python",
   "pygments_lexer": "ipython3",
   "version": "3.11.4"
  },
  "language_info": {
   "codemirror_mode": {
    "name": "ipython",
    "version": 3
   },
   "file_extension": ".py",
   "mimetype": "text/x-python",
   "name": "python",
   "nbconvert_exporter": "python",
   "pygments_lexer": "ipython3",
   "version": "3.12.8"
  }
 },
 "nbformat": 4,
 "nbformat_minor": 2
}
