{
 "cells": [
  {
   "cell_type": "markdown",
   "metadata": {},
   "source": [
    "## BRONZE TO SILVER LAYER\n",
    "\n",
    "### GOLD LAYER - PROCESS DIVIDEND HISTORY"
   ]
  },
  {
   "cell_type": "markdown",
   "metadata": {},
   "source": [
    "### Description\n",
    "The notebook is designed to process stock dividend data by merging it with holdings data, calculating dividend amounts, and saving the result to a CSV file. The function follows these steps:"
   ]
  },
  {
   "cell_type": "code",
   "execution_count": 1,
   "metadata": {
    "execution": {
     "iopub.execute_input": "2024-11-01T01:15:49.456455Z",
     "iopub.status.busy": "2024-11-01T01:15:49.456253Z",
     "iopub.status.idle": "2024-11-01T01:15:49.714578Z",
     "shell.execute_reply": "2024-11-01T01:15:49.714087Z"
    }
   },
   "outputs": [],
   "source": [
    "# Importing Common Utility Function\n",
    "\n",
    "import pandas as pd\n",
    "\n",
    "from StockETL import GlobalPath"
   ]
  },
  {
   "cell_type": "code",
   "execution_count": 2,
   "metadata": {
    "execution": {
     "iopub.execute_input": "2024-11-01T01:15:49.716677Z",
     "iopub.status.busy": "2024-11-01T01:15:49.716454Z",
     "iopub.status.idle": "2024-11-01T01:15:49.869385Z",
     "shell.execute_reply": "2024-11-01T01:15:49.868731Z"
    }
   },
   "outputs": [],
   "source": [
    "# Import necessary libraries and utility functions\n",
    "%run ../COMMON/common_utility.ipynb"
   ]
  },
  {
   "cell_type": "code",
   "execution_count": 3,
   "metadata": {
    "execution": {
     "iopub.execute_input": "2024-11-01T01:15:49.871650Z",
     "iopub.status.busy": "2024-11-01T01:15:49.871461Z",
     "iopub.status.idle": "2024-11-01T01:15:49.875006Z",
     "shell.execute_reply": "2024-11-01T01:15:49.874556Z"
    }
   },
   "outputs": [],
   "source": [
    "# Instantiate GlobalPath\n",
    "holdingshistory_gold_file_path = GlobalPath(\n",
    "    \"DATA/GOLD/Holdings/HoldingsHistory_data.csv\"\n",
    ")\n",
    "stockevents_silver_file_path = GlobalPath(\n",
    "    \"DATA/SILVER/StockEvents/StockEvents_data.csv\"\n",
    ")\n",
    "dividend_gold_file_path = GlobalPath(\"DATA/GOLD/Dividend/Dividend_data.csv\")"
   ]
  },
  {
   "cell_type": "code",
   "execution_count": 4,
   "metadata": {
    "execution": {
     "iopub.execute_input": "2024-11-01T01:15:49.876812Z",
     "iopub.status.busy": "2024-11-01T01:15:49.876480Z",
     "iopub.status.idle": "2024-11-01T01:15:49.903492Z",
     "shell.execute_reply": "2024-11-01T01:15:49.902876Z"
    }
   },
   "outputs": [
    {
     "name": "stdout",
     "output_type": "stream",
     "text": [
      "Loaded GOLD Layer holdings data from: /home/runner/work/PortfolioTracker/PortfolioTracker/DATA/GOLD/Holdings/HoldingsHistory_data.csv\n"
     ]
    }
   ],
   "source": [
    "# Load holdings data from the GOLD layer\n",
    "df_holdings = pd.read_csv(holdingshistory_gold_file_path)\n",
    "df_holdings[\"date\"] = pd.to_datetime(df_holdings[\"date\"])\n",
    "print(f\"Loaded GOLD Layer holdings data from: {holdingshistory_gold_file_path}\")"
   ]
  },
  {
   "cell_type": "code",
   "execution_count": 5,
   "metadata": {
    "execution": {
     "iopub.execute_input": "2024-11-01T01:15:49.940151Z",
     "iopub.status.busy": "2024-11-01T01:15:49.939743Z",
     "iopub.status.idle": "2024-11-01T01:15:49.945781Z",
     "shell.execute_reply": "2024-11-01T01:15:49.945203Z"
    }
   },
   "outputs": [
    {
     "name": "stdout",
     "output_type": "stream",
     "text": [
      "Loaded SILVER Layer stock dividend data from: /home/runner/work/PortfolioTracker/PortfolioTracker/DATA/SILVER/StockEvents/StockEvents_data.csv\n"
     ]
    }
   ],
   "source": [
    "# Load dividend data from the SILVER layer\n",
    "df_dividends = pd.read_csv(stockevents_silver_file_path)\n",
    "df_dividends[\"date\"] = pd.to_datetime(df_dividends[\"date\"])\n",
    "print(f\"Loaded SILVER Layer stock dividend data from: {stockevents_silver_file_path}\")"
   ]
  },
  {
   "cell_type": "code",
   "execution_count": 6,
   "metadata": {
    "execution": {
     "iopub.execute_input": "2024-11-01T01:15:49.947564Z",
     "iopub.status.busy": "2024-11-01T01:15:49.947214Z",
     "iopub.status.idle": "2024-11-01T01:15:49.958055Z",
     "shell.execute_reply": "2024-11-01T01:15:49.957459Z"
    }
   },
   "outputs": [],
   "source": [
    "# Filter for dividend events only\n",
    "df_dividends = df_dividends[df_dividends[\"event\"].str.upper() == \"DIVIDENDS\"]\n",
    "\n",
    "# Merge dividend data with holdings data\n",
    "df_dividend = pd.merge(df_holdings, df_dividends, on=[\"date\", \"symbol\"], how=\"left\")\n",
    "\n",
    "# Calculate the dividend amount\n",
    "df_dividend[\"dividend_amount\"] = (\n",
    "    df_dividend[\"value\"].fillna(0) * df_dividend[\"holding_quantity\"]\n",
    ")\n",
    "df_dividend[\"dividend_amount\"] = df_dividend[\"dividend_amount\"].round(2)\n",
    "\n",
    "# Filter out rows where dividend amount is 0\n",
    "df_dividend = df_dividend[df_dividend[\"dividend_amount\"] != 0]"
   ]
  },
  {
   "cell_type": "code",
   "execution_count": 7,
   "metadata": {
    "execution": {
     "iopub.execute_input": "2024-11-01T01:15:49.960151Z",
     "iopub.status.busy": "2024-11-01T01:15:49.959789Z",
     "iopub.status.idle": "2024-11-01T01:15:49.970210Z",
     "shell.execute_reply": "2024-11-01T01:15:49.969723Z"
    }
   },
   "outputs": [
    {
     "name": "stdout",
     "output_type": "stream",
     "text": [
      "GOLD Layer CSV file for Holdings successfully created at: /home/runner/work/PortfolioTracker/PortfolioTracker/DATA/GOLD/Dividend/Dividend_data.csv\n",
      "<class 'pandas.core.frame.DataFrame'>\n",
      "RangeIndex: 37 entries, 0 to 36\n",
      "Data columns (total 4 columns):\n",
      " #   Column           Non-Null Count  Dtype         \n",
      "---  ------           --------------  -----         \n",
      " 0   date             37 non-null     datetime64[ns]\n",
      " 1   segment          37 non-null     object        \n",
      " 2   symbol           37 non-null     object        \n",
      " 3   dividend_amount  37 non-null     float64       \n",
      "dtypes: datetime64[ns](1), float64(1), object(2)\n",
      "memory usage: 1.3+ KB\n"
     ]
    }
   ],
   "source": [
    "# Sort and format the DataFrame\n",
    "df_dividend = df_dividend.sort_values(by=[\"date\", \"segment\", \"symbol\"]).reset_index(\n",
    "    drop=True\n",
    ")\n",
    "df_dividend = df_dividend[[\"date\", \"segment\", \"symbol\", \"dividend_amount\"]]\n",
    "\n",
    "# Save the result to a new CSV file\n",
    "df_dividend.to_csv(dividend_gold_file_path, index=False)\n",
    "print(\n",
    "    f\"GOLD Layer CSV file for Holdings successfully created at: {dividend_gold_file_path}\"\n",
    ")\n",
    "\n",
    "# Display DataFrame debugrmation\n",
    "df_dividend.info()"
   ]
  }
 ],
 "metadata": {
  "kernelspec": {
   "display_name": "Python 3",
   "language": "python",
   "name": "python3"
  },
  "language_debug": {
   "codemirror_mode": {
    "name": "ipython",
    "version": 3
   },
   "file_extension": ".py",
   "mimetype": "text/x-python",
   "name": "python",
   "nbconvert_exporter": "python",
   "pygments_lexer": "ipython3",
   "version": "3.11.4"
  },
  "language_info": {
   "codemirror_mode": {
    "name": "ipython",
    "version": 3
   },
   "file_extension": ".py",
   "mimetype": "text/x-python",
   "name": "python",
   "nbconvert_exporter": "python",
   "pygments_lexer": "ipython3",
   "version": "3.12.7"
  }
 },
 "nbformat": 4,
 "nbformat_minor": 2
}
