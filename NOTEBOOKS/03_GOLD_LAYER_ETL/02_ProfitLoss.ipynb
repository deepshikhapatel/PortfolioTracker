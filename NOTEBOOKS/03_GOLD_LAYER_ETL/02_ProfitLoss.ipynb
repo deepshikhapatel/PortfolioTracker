{
 "cells": [
  {
   "cell_type": "markdown",
   "metadata": {},
   "source": [
    "## SILVER TO GOLD LAYER\n",
    "\n",
    "### Gold Layer - Profit and Loss"
   ]
  },
  {
   "cell_type": "code",
   "execution_count": 1,
   "metadata": {
    "execution": {
     "iopub.execute_input": "2024-12-01T01:28:00.895263Z",
     "iopub.status.busy": "2024-12-01T01:28:00.895078Z",
     "iopub.status.idle": "2024-12-01T01:28:01.158747Z",
     "shell.execute_reply": "2024-12-01T01:28:01.158241Z"
    }
   },
   "outputs": [],
   "source": [
    "# Importing Common Utility Function\n",
    "\n",
    "import pandas as pd\n",
    "\n",
    "from StockETL import GlobalPath, Portfolio"
   ]
  },
  {
   "cell_type": "code",
   "execution_count": 2,
   "metadata": {
    "execution": {
     "iopub.execute_input": "2024-12-01T01:28:01.160826Z",
     "iopub.status.busy": "2024-12-01T01:28:01.160589Z",
     "iopub.status.idle": "2024-12-01T01:28:01.313717Z",
     "shell.execute_reply": "2024-12-01T01:28:01.313062Z"
    }
   },
   "outputs": [],
   "source": [
    "# Import necessary libraries and utility functions\n",
    "%run ../COMMON/common_utility.ipynb"
   ]
  },
  {
   "cell_type": "code",
   "execution_count": 3,
   "metadata": {
    "execution": {
     "iopub.execute_input": "2024-12-01T01:28:01.316232Z",
     "iopub.status.busy": "2024-12-01T01:28:01.315742Z",
     "iopub.status.idle": "2024-12-01T01:28:01.319358Z",
     "shell.execute_reply": "2024-12-01T01:28:01.318787Z"
    }
   },
   "outputs": [],
   "source": [
    "# Instantiate GlobalPath\n",
    "tradehistory_silver_file_path = GlobalPath(\n",
    "    \"DATA/SILVER/TradeHistory/TradeHistory_data.csv\"\n",
    ")\n",
    "profitloss_gold_file_path = GlobalPath(\"DATA/GOLD/ProfitLoss/ProfitLoss_data.csv\")"
   ]
  },
  {
   "cell_type": "markdown",
   "metadata": {},
   "source": [
    "### Data Processing\n",
    "\n",
    "- Read and sort trade history data.\n",
    "- Apply portfolio trade logic.\n"
   ]
  },
  {
   "cell_type": "code",
   "execution_count": 4,
   "metadata": {
    "execution": {
     "iopub.execute_input": "2024-12-01T01:28:01.321333Z",
     "iopub.status.busy": "2024-12-01T01:28:01.320984Z",
     "iopub.status.idle": "2024-12-01T01:28:01.329806Z",
     "shell.execute_reply": "2024-12-01T01:28:01.329156Z"
    }
   },
   "outputs": [
    {
     "name": "stdout",
     "output_type": "stream",
     "text": [
      "Read SILVER Layer trade history data from: /home/runner/work/PortfolioTracker/PortfolioTracker/DATA/SILVER/TradeHistory/TradeHistory_data.csv\n"
     ]
    }
   ],
   "source": [
    "# Read the CSV file\n",
    "df_trade_history = pd.read_csv(tradehistory_silver_file_path)\n",
    "\n",
    "# Convert 'datetime' to datetime type\n",
    "df_trade_history[\"datetime\"] = pd.to_datetime(df_trade_history[\"datetime\"])\n",
    "\n",
    "# Sort the DataFrame by 'datetime'\n",
    "df_trade_history = df_trade_history.sort_values(by=\"datetime\")\n",
    "\n",
    "print(f\"Read SILVER Layer trade history data from: {tradehistory_silver_file_path}\")"
   ]
  },
  {
   "cell_type": "markdown",
   "metadata": {},
   "source": [
    "### Portfolio Logic Application\n",
    "\n",
    "- Instantiate Portfolio and apply trade logic.\n",
    "- Handle expired stocks\n"
   ]
  },
  {
   "cell_type": "code",
   "execution_count": 5,
   "metadata": {
    "execution": {
     "iopub.execute_input": "2024-12-01T01:28:01.366360Z",
     "iopub.status.busy": "2024-12-01T01:28:01.365859Z",
     "iopub.status.idle": "2024-12-01T01:28:01.372248Z",
     "shell.execute_reply": "2024-12-01T01:28:01.371769Z"
    }
   },
   "outputs": [],
   "source": [
    "# Apply the trade logic to each row of the DataFrame\n",
    "# Instantiate the Portfolio object\n",
    "portfolio = Portfolio()\n",
    "for record in df_trade_history.to_dict(orient=\"records\"):\n",
    "    portfolio.trade(record)\n",
    "\n",
    "portfolio.check_expired_stocks()\n",
    "# expired_stocks example : df_trade_history[\"scrip_name\"] == \"NIFTY-PE-24650-18JUL2024\""
   ]
  },
  {
   "cell_type": "markdown",
   "metadata": {},
   "source": [
    "### Final Processing and Export\n",
    "\n",
    "- Select and sort relevant columns.\n",
    "- Save the processed data as a CSV file in the Gold layer.\n"
   ]
  },
  {
   "cell_type": "code",
   "execution_count": 6,
   "metadata": {
    "execution": {
     "iopub.execute_input": "2024-12-01T01:28:01.374045Z",
     "iopub.status.busy": "2024-12-01T01:28:01.373865Z",
     "iopub.status.idle": "2024-12-01T01:28:01.388185Z",
     "shell.execute_reply": "2024-12-01T01:28:01.387724Z"
    }
   },
   "outputs": [
    {
     "name": "stdout",
     "output_type": "stream",
     "text": [
      "GOLD Layer CSV file for ProfitLoss successfully created at:\n",
      "/home/runner/work/PortfolioTracker/PortfolioTracker/DATA/GOLD/ProfitLoss/ProfitLoss_data.csv\n",
      "<class 'pandas.core.frame.DataFrame'>\n",
      "RangeIndex: 43 entries, 0 to 42\n",
      "Data columns (total 16 columns):\n",
      " #   Column          Non-Null Count  Dtype         \n",
      "---  ------          --------------  -----         \n",
      " 0   exchange        43 non-null     object        \n",
      " 1   segment         43 non-null     object        \n",
      " 2   symbol          43 non-null     object        \n",
      " 3   scrip_name      43 non-null     object        \n",
      " 4   position        43 non-null     object        \n",
      " 5   quantity        43 non-null     float64       \n",
      " 6   open_datetime   43 non-null     datetime64[ns]\n",
      " 7   open_side       43 non-null     object        \n",
      " 8   open_price      43 non-null     float64       \n",
      " 9   open_amount     43 non-null     float64       \n",
      " 10  close_datetime  43 non-null     datetime64[ns]\n",
      " 11  close_side      43 non-null     object        \n",
      " 12  close_price     43 non-null     float64       \n",
      " 13  close_amount    43 non-null     float64       \n",
      " 14  pnl_amount      43 non-null     float64       \n",
      " 15  pnl_percentage  43 non-null     float64       \n",
      "dtypes: datetime64[ns](2), float64(7), object(7)\n",
      "memory usage: 5.5+ KB\n"
     ]
    }
   ],
   "source": [
    "# Create a DataFrame from the processed data\n",
    "df_pnl = pd.DataFrame(portfolio.get_pnl())\n",
    "\n",
    "# Sort the DataFrame\n",
    "df_pnl = df_pnl.sort_values(\n",
    "    by=[\n",
    "        \"segment\",\n",
    "        \"exchange\",\n",
    "        \"symbol\",\n",
    "        \"scrip_name\",\n",
    "        \"close_datetime\",\n",
    "        \"open_datetime\",\n",
    "    ]\n",
    ")\n",
    "\n",
    "# Round the values in to two decimal places\n",
    "df_pnl = df_pnl.round(2)\n",
    "\n",
    "# Reset index to ensure it starts from 0\n",
    "df_pnl = df_pnl.reset_index(drop=True)\n",
    "\n",
    "# Select and reorder the columns for the final DataFrame\n",
    "df_pnl = df_pnl[\n",
    "    [\n",
    "        \"exchange\",\n",
    "        \"segment\",\n",
    "        \"symbol\",\n",
    "        \"scrip_name\",\n",
    "        \"position\",\n",
    "        \"quantity\",\n",
    "        \"open_datetime\",\n",
    "        \"open_side\",\n",
    "        \"open_price\",\n",
    "        \"open_amount\",\n",
    "        \"close_datetime\",\n",
    "        \"close_side\",\n",
    "        \"close_price\",\n",
    "        \"close_amount\",\n",
    "        \"pnl_amount\",\n",
    "        \"pnl_percentage\",\n",
    "    ]\n",
    "]\n",
    "\n",
    "# Save the final DataFrame to a CSV file\n",
    "df_pnl.to_csv(profitloss_gold_file_path, index=None)\n",
    "\n",
    "print(\"GOLD Layer CSV file for ProfitLoss successfully created at:\")\n",
    "print(profitloss_gold_file_path)\n",
    "\n",
    "# Display the DataFrame debugrmation\n",
    "df_pnl.info()"
   ]
  }
 ],
 "metadata": {
  "kernelspec": {
   "display_name": "Python 3 (ipykernel)",
   "language": "python",
   "name": "python3"
  },
  "language_debug": {
   "codemirror_mode": {
    "name": "ipython",
    "version": 3
   },
   "file_extension": ".py",
   "mimetype": "text/x-python",
   "name": "python",
   "nbconvert_exporter": "python",
   "pygments_lexer": "ipython3",
   "version": "3.11.4"
  },
  "language_info": {
   "codemirror_mode": {
    "name": "ipython",
    "version": 3
   },
   "file_extension": ".py",
   "mimetype": "text/x-python",
   "name": "python",
   "nbconvert_exporter": "python",
   "pygments_lexer": "ipython3",
   "version": "3.12.7"
  }
 },
 "nbformat": 4,
 "nbformat_minor": 4
}
